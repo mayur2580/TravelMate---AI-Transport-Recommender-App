{
 "cells": [
  {
   "cell_type": "code",
   "execution_count": 1,
   "id": "d114aff3",
   "metadata": {},
   "outputs": [],
   "source": [
    "from langchain_core.messages import HumanMessage\n",
    "from langchain_core.runnables import RunnableConfig\n",
    "from langchain_core.tools import tool\n",
    "from langgraph.graph import StateGraph, END\n",
    "from typing import TypedDict, Optional\n",
    "import pandas as pd\n",
    "from dotenv import load_dotenv\n",
    "import os\n",
    "from langchain.memory import ConversationBufferMemory\n",
    "from langchain_core.runnables import Runnable\n"
   ]
  },
  {
   "cell_type": "code",
   "execution_count": 2,
   "id": "e588d186",
   "metadata": {},
   "outputs": [
    {
     "data": {
      "text/plain": [
       "True"
      ]
     },
     "execution_count": 2,
     "metadata": {},
     "output_type": "execute_result"
    }
   ],
   "source": [
    "load_dotenv()\n"
   ]
  },
  {
   "cell_type": "code",
   "execution_count": 3,
   "id": "ce7aed93",
   "metadata": {},
   "outputs": [
    {
     "name": "stdout",
     "output_type": "stream",
     "text": [
      "Train: (186124, 4)\n",
      "Bus: (10000, 4)\n",
      "Plane: (300153, 4)\n"
     ]
    }
   ],
   "source": [
    "train_df = pd.read_csv(\"data/Train data.csv\",low_memory=False)\n",
    "bus_df = pd.read_csv(\"data/indian_bus_routes_large.csv\")\n",
    "plane_df = pd.read_csv(\"data/plane data.csv\")\n",
    "\n",
    "# Preview\n",
    "print(\"Train:\", train_df.shape)\n",
    "print(\"Bus:\", bus_df.shape)\n",
    "print(\"Plane:\", plane_df.shape)"
   ]
  },
  {
   "cell_type": "code",
   "execution_count": 4,
   "id": "55f5d376",
   "metadata": {},
   "outputs": [],
   "source": [
    "from langchain_groq import ChatGroq\n",
    "\n",
    "llm = ChatGroq(\n",
    "    temperature=0.2,\n",
    "    groq_api_key=os.getenv(\"GROQ_API_KEY\"),\n",
    "    model_name=\"llama3-70b-8192\"\n",
    ")\n"
   ]
  },
  {
   "cell_type": "code",
   "execution_count": 5,
   "id": "2ae3c063",
   "metadata": {},
   "outputs": [
    {
     "name": "stderr",
     "output_type": "stream",
     "text": [
      "C:\\Users\\mayur.nikam\\AppData\\Local\\Temp\\ipykernel_24984\\3353824168.py:1: LangChainDeprecationWarning: Please see the migration guide at: https://python.langchain.com/docs/versions/migrating_memory/\n",
      "  memory = ConversationBufferMemory(memory_key=\"chat_history\", return_messages=True)\n"
     ]
    }
   ],
   "source": [
    "memory = ConversationBufferMemory(memory_key=\"chat_history\", return_messages=True)"
   ]
  },
  {
   "cell_type": "code",
   "execution_count": 6,
   "id": "12b003d5",
   "metadata": {},
   "outputs": [],
   "source": [
    "class AgentState(TypedDict):\n",
    "    user_input: str\n",
    "    source: Optional[str]\n",
    "    destination: Optional[str]\n",
    "    preference: Optional[str]  # 'cost', 'time', or 'best'\n",
    "    result: Optional[str]"
   ]
  },
  {
   "cell_type": "code",
   "execution_count": 7,
   "id": "4befdca0",
   "metadata": {},
   "outputs": [],
   "source": [
    "def input_node(state: AgentState) -> AgentState:\n",
    "    query = state[\"user_input\"]\n",
    "    chat_history = state.get(\"chat_history\", [])\n",
    "\n",
    "    # Check if user asked about memory\n",
    "    if \"last message\" in query.lower():\n",
    "        last = memory[-2] if len(memory) >= 2 else \"No previous messages.\"\n",
    "        memory.append(f\"LLM: Your last message was: {last}\")\n",
    "        return {\n",
    "            **state,\n",
    "            \"result\": f\"🧠 Your last message was: {last}\",\n",
    "        }\n",
    "    \n",
    "    \n",
    "    prompt = f\"\"\"Extract the source city, destination city, and user preference \n",
    "(cost, time, or best) from this query: '{query}'. \n",
    "Return in the format: \n",
    "Source: <source> \n",
    "Destination: <destination> \n",
    "Preference: <cost/time/best>\n",
    "\"\"\"\n",
    "    response = llm.invoke(prompt).content.lower()\n",
    "\n",
    "    def extract_value(label):\n",
    "        for line in response.splitlines():\n",
    "            if line.startswith(label.lower()):\n",
    "                return line.split(\":\")[1].strip()\n",
    "        return None\n",
    "\n",
    "    return {\n",
    "        **state,\n",
    "        \"source\": extract_value(\"source\"),\n",
    "        \"destination\": extract_value(\"destination\"),\n",
    "        \"preference\": extract_value(\"preference\"),\n",
    "    }\n"
   ]
  },
  {
   "cell_type": "code",
   "execution_count": 8,
   "id": "376cc83f",
   "metadata": {},
   "outputs": [],
   "source": [
    "def get_best_transport(state: AgentState) -> AgentState:\n",
    "    source = state[\"source\"]\n",
    "    destination = state[\"destination\"]\n",
    "    preference = state[\"preference\"] or \"best\"\n",
    "\n",
    "    if not source or not destination:\n",
    "        return {**state, \"result\": \"Please specify both source and destination cities.\"}\n",
    "\n",
    "\n",
    "    results = []\n",
    "\n",
    "    def safe_get(row, col):\n",
    "        return row[col] if col in row and pd.notna(row[col]) else float(\"inf\")\n",
    "\n",
    "    def match(df, mode, src_col, dst_col, cost_col, time_col):\n",
    "        matches = df[\n",
    "            (df[src_col].str.lower().str.strip() == source.lower().strip()) &\n",
    "            (df[dst_col].str.lower().str.strip() == destination.lower().strip())\n",
    "        ]\n",
    "        print(f\"{mode} Available Transports:\", len(matches))  # DEBUG PRINT\n",
    "\n",
    "        for _, row in matches.iterrows():\n",
    "            cost = safe_get(row, cost_col)\n",
    "            time = safe_get(row, time_col)\n",
    "            if cost != float(\"inf\") and time != float(\"inf\"):\n",
    "                results.append({\n",
    "                    \"mode\": mode,\n",
    "                    \"cost\": cost,\n",
    "                    \"time\": time\n",
    "                })\n",
    "\n",
    "    # Apply to all modes\n",
    "    match(bus_df, \"Bus\",\"Source\", \"Destination\", \"Cost\", \"Duration\")\n",
    "    match(train_df, \"Train\", \"Source\", \"Destination\", \"Cost\", \"Duration\")\n",
    "    match(plane_df, \"Plane\", \"Source\", \"Destination\", \"Cost\", \"Duration\")\n",
    "\n",
    "    if not results:\n",
    "        return {**state, \"result\": \"No available transport found for this route.\"}\n",
    "\n",
    "    if preference == \"cost\":\n",
    "        best = min(results, key=lambda x: x[\"cost\"])\n",
    "    elif preference == \"time\":\n",
    "        best = min(results, key=lambda x: x[\"time\"])\n",
    "    else:\n",
    "        best = min(results, key=lambda x: x[\"cost\"] + x[\"time\"])\n",
    "\n",
    "    result_str = f\"Best mode: {best['mode']} | Cost: {best['cost']} | Time: {best['time']}\"\n",
    "    return {**state, \"result\": result_str}\n"
   ]
  },
  {
   "cell_type": "code",
   "execution_count": null,
   "id": "199cd3a5",
   "metadata": {},
   "outputs": [],
   "source": [
    "def output_node(state: AgentState):\n",
    "    # print(\"User Query:\", state[\"user_input\"])\n",
    "    print(\"Source:\", state[\"source\"])\n",
    "    print(\"Destination:\", state[\"destination\"])\n",
    "    print(\"Preference:\", state[\"preference\"])\n",
    "    print(\"Recommendation:\", state[\"result\"])\n",
    "    print(\"✅ Recommendation:\", state[\"result\"])\n",
    "    return state\n",
    "\n"
   ]
  },
  {
   "cell_type": "code",
   "execution_count": 10,
   "id": "725fcc43",
   "metadata": {},
   "outputs": [],
   "source": [
    "graph = StateGraph(AgentState)\n",
    "graph.add_node(\"input\", input_node)\n",
    "graph.add_node(\"recommend\", get_best_transport)\n",
    "graph.add_node(\"output\", output_node)\n",
    "\n",
    "graph.set_entry_point(\"input\")\n",
    "graph.add_conditional_edges(\"input\", lambda state: END if \"result\" in state else \"recommend\")\n",
    "graph.add_edge(\"recommend\", \"output\")\n",
    "graph.set_finish_point(\"output\")\n",
    "\n",
    "runnable = graph.compile()"
   ]
  },
  {
   "cell_type": "code",
   "execution_count": 11,
   "id": "49c58797",
   "metadata": {},
   "outputs": [],
   "source": [
    "config = {\"configurable\": {\"thread_id\": \"1\"}}"
   ]
  },
  {
   "cell_type": "code",
   "execution_count": 12,
   "id": "7d7d4e8b",
   "metadata": {},
   "outputs": [],
   "source": [
    "# from IPython.display import Image\n",
    "# Image(runnable.get_graph().draw_mermaid_png())"
   ]
  },
  {
   "cell_type": "code",
   "execution_count": 13,
   "id": "56bed3da",
   "metadata": {},
   "outputs": [
    {
     "name": "stdout",
     "output_type": "stream",
     "text": [
      "Bus Available Transports: 1\n",
      "Train Available Transports: 0\n",
      "Plane Available Transports: 15289\n",
      "Source: delhi\n",
      "Destination: mumbai\n",
      "Preference: time\n",
      "Recommendation: Best mode: Plane | Cost: 5955 | Time: 2.0\n",
      "✅ Recommendation: Best mode: Plane | Cost: 5955 | Time: 2.0\n"
     ]
    },
    {
     "data": {
      "text/plain": [
       "{'user_input': 'I want to go delhi to mumbai, I want less time.',\n",
       " 'source': 'delhi',\n",
       " 'destination': 'mumbai',\n",
       " 'preference': 'time',\n",
       " 'result': 'Best mode: Plane | Cost: 5955 | Time: 2.0'}"
      ]
     },
     "execution_count": 13,
     "metadata": {},
     "output_type": "execute_result"
    }
   ],
   "source": [
    "runnable.invoke({\n",
    "    \"user_input\": \"I want to go delhi to mumbai, I want less time.\"\n",
    "})"
   ]
  },
  {
   "cell_type": "code",
   "execution_count": null,
   "id": "0e9587de",
   "metadata": {},
   "outputs": [],
   "source": []
  },
  {
   "cell_type": "code",
   "execution_count": null,
   "id": "ba449a6a",
   "metadata": {},
   "outputs": [],
   "source": []
  },
  {
   "cell_type": "code",
   "execution_count": null,
   "id": "51c3aea2",
   "metadata": {},
   "outputs": [],
   "source": []
  }
 ],
 "metadata": {
  "kernelspec": {
   "display_name": "travelmate_env",
   "language": "python",
   "name": "python3"
  },
  "language_info": {
   "codemirror_mode": {
    "name": "ipython",
    "version": 3
   },
   "file_extension": ".py",
   "mimetype": "text/x-python",
   "name": "python",
   "nbconvert_exporter": "python",
   "pygments_lexer": "ipython3",
   "version": "3.11.1"
  }
 },
 "nbformat": 4,
 "nbformat_minor": 5
}
